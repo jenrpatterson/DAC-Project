{
 "cells": [
  {
   "cell_type": "code",
   "execution_count": 167,
   "id": "166a4eb4-ad3a-47de-99e0-042079c48d0d",
   "metadata": {},
   "outputs": [],
   "source": [
    "# Sabatino Paper\n",
    "\n",
    "import numpy as np\n",
    "import pandas as pd\n",
    "import CoolProp.CoolProp as CP\n",
    "\n",
    "R = 8.314 # J/molK\n",
    "MW_CO2 = 44.01e-3 # kg/mol\n",
    "MW_H2O = 18.015e-3 # kg/mol\n",
    "\n",
    "# Fitted Parameters\n",
    "a = 116.87\n",
    "b = 15.00"
   ]
  },
  {
   "cell_type": "code",
   "execution_count": 169,
   "id": "ed331140-fc92-4a00-9301-4e8b595be5fb",
   "metadata": {},
   "outputs": [],
   "source": [
    "## Parameter dictionaries:\n",
    "# Toth\n",
    "TOTH_PAR = {\n",
    "    \"Tri-PE-MCM-41\": {\n",
    "        \"T0\": 298,\n",
    "        \"chem\": dict(ns0=2.897, b0=3.135e6, dH=117.8e3,\n",
    "                     t0=0.236, alpha=0.482, chi=0.207),\n",
    "        \"phys\": dict(ns0=8.208, b0=0.636,    dH=  2.64e3,\n",
    "                     t0=0.872, alpha=0.003, chi=4.539)\n",
    "    },\n",
    "    \"MIL-101-PEI-800\": {\n",
    "        \"T0\": 270,\n",
    "        \"chem\": dict(ns0=3.450, b0=9.96e6,  dH= 68.3e3,\n",
    "                     t0=0.243, alpha=1.802, chi=4.504),\n",
    "        \"phys\": dict(ns0=6.205, b0=93.2,    dH= 40.1e3,\n",
    "                     t0=0.163, alpha=2.287, chi=0.579)\n",
    "    },\n",
    "    \"Lewatit-VP-OC-106\": {\n",
    "        \"T0\": 278,\n",
    "        \"chem\": dict(ns0=2.211, b0=2.54e6,  dH= 91.2e3,\n",
    "                     t0=0.442, alpha=0.520, chi=0.000),\n",
    "        \"phys\": dict(ns0=1.840, b0=151.0,   dH=  5.19e3,\n",
    "                     t0=0.636, alpha=2.407, chi=7.186)\n",
    "    },\n",
    "    \"APDES-NFC\": {   # single site\n",
    "        \"T0\": 296,\n",
    "        \"chem\": dict(ns0=2.310, b0=0.560e6, dH= 50.0e3,\n",
    "                     t0=0.368, alpha=0.368, chi=2.501),\n",
    "        \"phys\": None\n",
    "    }\n",
    "}\n",
    "\n",
    "# GAB\n",
    "GAB_PAR = {\n",
    "    \"MCF-APS-hi\": dict(C0=21.375, dHC=-1.957e3,  K0=0.013, dHK=-1.000e3,\n",
    "                          Cm0=0.0510, beta=995.3),\n",
    "    \"Lewatit-VP-OC-106\": dict(C0=1.715, dHC=-24.636e3, K0=0.008, dHK= 9.438e3,\n",
    "                              Cm0=4.697, beta=3083.0),\n",
    "    \"APDES-NFC-1\": dict(C0=6.86, dHC=-4.120e3, K0=2.27, dHK=-2.530e3,\n",
    "                        Cm0=0.0208, beta=1540),\n",
    "    \"APDES-NFC-2\": dict(C0=6.86, dHC=-5.088e3, K0=2.27, dHK=-3.443e3,\n",
    "                        Cm0=0.0208, beta=1797),\n",
    "}\n",
    "\n",
    "# Solid properties\n",
    "SOLID_PAR = {\n",
    "    \"APDES-NFC\": dict(d_p=1.3e-3, rho_s=1589.9, rho_p=61.0, f_b=0.908,\n",
    "                      rho_b=55.4, cp=2070), \n",
    "\n",
    "    \"Tri-PE-MCM-41\": dict(d_p=1.0e-3, rho_s=2120, rho_p=550, f_b=0.582,\n",
    "                          rho_b=320.0, cp=1000),       \n",
    "\n",
    "    \"MIL-101(Cr)-PEI-800\": dict(d_p=0.996e-3, rho_s=1590, rho_p=500, f_b=None,\n",
    "                                rho_b=377.1, cp=892.5), \n",
    "       \n",
    "    \"Lewatit VP OC 106\": dict(d_p=0.688e-3, rho_s=1070, rho_p=880, f_b=0.773,\n",
    "                              rho_b=680.0, cp=1580), \n",
    " \n",
    "    \"Exemplary-isotherm\": dict(d_p=0.996e-3, rho_s=1590, rho_p=497.8, f_b=0.754,\n",
    "                               rho_b=375.4, cp=1514.2),\n",
    "}\n",
    "\n",
    "# Delta H (not sure yet here)\n",
    "DELTA_H = {\n",
    "    \"Tri-PE-MCM-41\": dict(CO2=96.7e3,  H2O=58.0e3),\n",
    "    \"MIL-101-PEI-800\":dict(CO2=83.9e3, H2O=49.0e3),\n",
    "    \"Lewatit-VP-OC-106\":dict(CO2=58.2e3, H2O=53.2e3),\n",
    "    \"APDES-NFC\":     dict(CO2=58.8e3,  H2O=49.0e3)\n",
    "}"
   ]
  },
  {
   "cell_type": "code",
   "execution_count": 171,
   "id": "0d298dec-47ca-4d42-83ca-afa2aa06434d",
   "metadata": {},
   "outputs": [],
   "source": [
    "# Toth Model\n",
    "def toth_coeff(site, T, T0):\n",
    "    ns = site[\"ns0\"] * np.exp(site[\"chi\"] * (1 - T/T0))\n",
    "    b  = site[\"b0\"] * np.exp(site[\"dH\"]/(R*T0) * (T0/T - 1))\n",
    "    t  = site[\"t0\"] + site[\"alpha\"] * (1 - T0/T)\n",
    "    return ns, b, t\n",
    "\n",
    "# Toth Equation:\n",
    "def q_CO2_Toth(p_CO2_kPa, T, sorb):\n",
    "    p_MPa = p_CO2_kPa / 1000\n",
    "    par = TOTH_PAR[sorb]\n",
    "    T0 = par[\"T0\"]\n",
    "\n",
    "    # chemisorption\n",
    "    ns_c, b_c, t_c = toth_coeff(par[\"chem\"], T, T0)\n",
    "    q_chem = ns_c * b_c*p_MPa / (1 + (b_c*p_MPa)**t_c)**(1/t_c)\n",
    "\n",
    "    # physisorption\n",
    "    if par[\"phys\"] is not None:\n",
    "        ns_p, b_p, t_p = toth_coeff(par[\"phys\"], T, T0)\n",
    "        q_phys = ns_p * b_p*p_MPa / (1 + (b_p*p_MPa)**t_p)**(1/t_p)\n",
    "    else:\n",
    "        q_phys = 0.0\n",
    "\n",
    "    return q_chem + q_phys"
   ]
  },
  {
   "cell_type": "code",
   "execution_count": 173,
   "id": "33df978b-bfa7-4e7b-b07d-3d5b9cc77fb3",
   "metadata": {},
   "outputs": [],
   "source": [
    "# GAB Model\n",
    "def p0_H2O_kPa(T): # saturation pressure of water, kPa\n",
    "    return CP.PropSI('P','T',T,'Q',1,'Water') / 1000.0\n",
    "\n",
    "\n",
    "def q_H2O_GAB(pH2O_kPa, T, sorb):\n",
    "    p = GAB_PAR[sorb]\n",
    "    a_w  = pH2O_kPa / p0_H2O_kPa(T)\n",
    "\n",
    "    C  = p[\"C0\"]  * np.exp(p[\"dHC\"] / (R * T))\n",
    "    K  = p[\"K0\"]  * np.exp(p[\"dHK\"] / (R * T))\n",
    "    Cm = p[\"Cm0\"] * np.exp(p[\"beta\"] / T)\n",
    "\n",
    "    return (Cm * C * K * a_w) / ((1 - K*a_w) * (1 + (C - 1) * K * a))\n"
   ]
  },
  {
   "cell_type": "code",
   "execution_count": 175,
   "id": "e6d30d4a-b95d-4741-a72c-f7489b5bfdbb",
   "metadata": {},
   "outputs": [],
   "source": [
    "# Finds equilibrium temperature to run Toth Model based on RH\n",
    "def Teq_withRH(pH2O_kPa, T):\n",
    "    aw   = pH2O_kPa / p0_H2O_kPa(T)\n",
    "    Teq  = T - a * (278.0/T)**b * aw      # Eq. 17\n",
    "    return Teq\n",
    "    "
   ]
  },
  {
   "cell_type": "code",
   "execution_count": null,
   "id": "ab7d4ec6-27a3-4132-8373-65e8d8add82f",
   "metadata": {},
   "outputs": [],
   "source": []
  },
  {
   "cell_type": "code",
   "execution_count": null,
   "id": "a796d358-e5b3-4717-9aea-0965489d1336",
   "metadata": {},
   "outputs": [],
   "source": []
  },
  {
   "cell_type": "code",
   "execution_count": 75,
   "id": "aa770bcb-a7f7-468e-b409-32e34053e7ce",
   "metadata": {},
   "outputs": [],
   "source": [
    "CONTACTOR_PAR = {\n",
    "    # single sorbent plate inside the cube module\n",
    "    \"plate\": {\n",
    "        \"length\":      0.05,       # m\n",
    "        \"radius_i\":    0.005,      # internal radius (m)\n",
    "        \"radius_o\":    0.005001,   # external radius (m)\n",
    "        \"cp_wall\":   2.457e6,      # J/(Km3)\n",
    "        \"h_W\":          6.7        # W/(m2K)  \n",
    "    },\n",
    "    # packed-bed “cube” module (1.5 m edge)\n",
    "    \"module\": {\n",
    "        \"LxWxH\": (1.5, 1.5, 1.5),  # m\n",
    "        \"void_fraction\": 0.60      # ε = 1 − V_sorbent / V_aircontactor\n",
    "    }\n",
    "}"
   ]
  },
  {
   "cell_type": "code",
   "execution_count": 78,
   "id": "aeae260c-626d-4e64-b103-853a6737aae5",
   "metadata": {},
   "outputs": [],
   "source": [
    "def W_AirBlower(dP, V_air_dot, eta_AB):\n",
    "    return dP * V_air_dot / eta_AB\n",
    "\n",
    "\n",
    "def W_pump_isentropic(R, m_dot, cp, T, p_in, p_out, eta_VP):\n",
    "    gamma  = cp / (cp - R)\n",
    "    ratio  = (p_out / p_in)**((gamma - 1.0) / gamma) - 1.0\n",
    "    return m_dot * cp * T * ratio / eta_VP"
   ]
  },
  {
   "cell_type": "code",
   "execution_count": 102,
   "id": "3b19a2dd-d7bd-45ae-b726-0d191267299a",
   "metadata": {},
   "outputs": [
    {
     "name": "stdout",
     "output_type": "stream",
     "text": [
      "866.1970583237526\n"
     ]
    }
   ],
   "source": [
    "T = 320\n",
    "CO2_conc = 430 # ppm\n",
    "p_CO2 = 101325/1000 * (CO2_conc/1000000) # kPa\n",
    "\n",
    "cp_CO2 = CP.PropsSI('C','T',T,'P',p_CO2,'CO2')      # J kg⁻¹ K⁻¹\n",
    "print(cp_CO2)"
   ]
  },
  {
   "cell_type": "code",
   "execution_count": 146,
   "id": "f2268af6-ee26-4905-a3fb-148255625b02",
   "metadata": {},
   "outputs": [],
   "source": [
    "T = 280"
   ]
  },
  {
   "cell_type": "code",
   "execution_count": 148,
   "id": "798a6ce8-828d-41dc-9117-ddd336646d47",
   "metadata": {},
   "outputs": [
    {
     "name": "stdout",
     "output_type": "stream",
     "text": [
      "4201.348790423362\n"
     ]
    }
   ],
   "source": [
    "P = 1400\n",
    "vap = CP.PropsSI('C', 'T', T, 'P', P, 'Water')\n",
    "\n",
    "\n",
    "print(vap)\n"
   ]
  },
  {
   "cell_type": "code",
   "execution_count": null,
   "id": "cef9a809-62ff-4755-a2ac-84f1500251d3",
   "metadata": {},
   "outputs": [],
   "source": [
    "need to calculate P of water vapor given humidity stuff"
   ]
  },
  {
   "cell_type": "code",
   "execution_count": null,
   "id": "8aa45fb1-6b92-4bb9-b1b9-b62d5f3ed7d1",
   "metadata": {},
   "outputs": [],
   "source": [
    "def cp_CO2(T): \n",
    "    return CP.PropsSI('C', 'T', T, 'P', 101325, 'CO2')\n",
    "def cp_H2O(T):  \n",
    "    return CP.PropsSI('C', 'T', T, 'P', 101325, 'Water')\n",
    "def cp_H2O_vap(T):         # low-pressure vapor to stay in gas phase\n",
    "    return CP.PropsSI('C', 'T', T, 'P', 1000.0, 'Water') \n",
    "\n",
    "def Q_total(T_ads):\n",
    "    \n",
    "T_des = 373.0\n",
    "T_sat = 373.0\n",
    "\n",
    "MW_CO2 = 44.01e-3 #kg/mol\n",
    "MW_H2O = 18.015e-3 #kg/mol\n",
    "\n",
    "cp_CO2 = cp_CO2(T_des)\n",
    "cp_H2O = cp_H2O(T_ads)\n",
    "cp_vap = cp_H2O_vap(T_des)\n",
    "\n",
    "Q_rxn_CO2 = dH_CO2 / MW_CO2\n",
    "Q_rxn_H2O = dH_H2O * dq_H2O / (dq_CO2 * MW_CO2)\n",
    "\n",
    "Q_sens_sorb = (cp_sorbent * (T_des-T_ads) / (dq_CO2 * MW_CO2))\n",
    "Q_sens_CO2  = cp_CO2 * (T_des-T_ads)\n",
    "Q_sens_H2O  = (cp_H2O * (T_sat-T_ads) + cp_vap * (T_des-T_sat)) * (dq_H2O * MW_H2O) / (dq_CO2 * MW_CO2)     \n",
    "\n",
    "Q_total =  Q_rxn_CO2 + Q_rxn_H2O + Q_sens_sorb + Q_sens_CO2 + Q_sens_H2O"
   ]
  },
  {
   "cell_type": "code",
   "execution_count": null,
   "id": "c4fcb26c-3f85-4e9f-ba31-1052cfd0d5eb",
   "metadata": {},
   "outputs": [],
   "source": []
  }
 ],
 "metadata": {
  "kernelspec": {
   "display_name": "Python [conda env:base] *",
   "language": "python",
   "name": "conda-base-py"
  },
  "language_info": {
   "codemirror_mode": {
    "name": "ipython",
    "version": 3
   },
   "file_extension": ".py",
   "mimetype": "text/x-python",
   "name": "python",
   "nbconvert_exporter": "python",
   "pygments_lexer": "ipython3",
   "version": "3.12.2"
  }
 },
 "nbformat": 4,
 "nbformat_minor": 5
}
